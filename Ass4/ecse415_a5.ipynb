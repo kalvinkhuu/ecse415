{
 "cells": [
  {
   "cell_type": "code",
   "execution_count": 1,
   "metadata": {},
   "outputs": [
    {
     "name": "stdout",
     "output_type": "stream",
     "text": [
      "Collecting package metadata (current_repodata.json): ...working... done\n",
      "Solving environment: ...working... unsuccessful attempt using repodata from current_repodata.json, retrying with next repodata source.\n",
      "Collecting package metadata (repodata.json): ...working... done\n",
      "Solving environment: ...working... done\n",
      "\n",
      "## Package Plan ##\n",
      "\n",
      "  environment location: C:\\Users\\Kalvin\\anaconda3\\envs\\newCondaEnvironment\n",
      "\n",
      "  added / updated specs:\n",
      "    - python=3.7.9\n",
      "\n",
      "\n",
      "The following NEW packages will be INSTALLED:\n",
      "\n",
      "  ca-certificates    cctbx202208/win-64::ca-certificates-2022.6.15-h5b45459_0 \n",
      "  libsqlite          cctbx202208/win-64::libsqlite-3.39.2-h8ffe710_1 \n",
      "  openssl            cctbx202208/win-64::openssl-1.1.1q-h8ffe710_0 \n",
      "  pip                cctbx202208/noarch::pip-22.2.2-pyhd8ed1ab_0 \n",
      "  python             pkgs/main/win-64::python-3.7.9-h60c2a47_0 \n",
      "  python_abi         cctbx202208/win-64::python_abi-3.7-2_cp37m \n",
      "  setuptools         cctbx202208/win-64::setuptools-59.8.0-py37h03978a9_1 \n",
      "  sqlite             cctbx202208/win-64::sqlite-3.39.2-h8ffe710_1 \n",
      "  ucrt               cctbx202208/win-64::ucrt-10.0.20348.0-h57928b3_0 \n",
      "  vc                 cctbx202208/win-64::vc-14.2-hb210afc_6 \n",
      "  vs2015_runtime     cctbx202208/win-64::vs2015_runtime-14.29.30037-h902a5da_6 \n",
      "  wheel              cctbx202208/noarch::wheel-0.37.1-pyhd8ed1ab_0 \n",
      "\n",
      "\n",
      "\n",
      "Downloading and Extracting Packages: ...working... done\n",
      "Preparing transaction: ...working... done\n",
      "Verifying transaction: ...working... done\n",
      "Executing transaction: ...working... done\n",
      "#\n",
      "# To activate this environment, use\n",
      "#\n",
      "#     $ conda activate newCondaEnvironment\n",
      "#\n",
      "# To deactivate an active environment, use\n",
      "#\n",
      "#     $ conda deactivate\n",
      "\n"
     ]
    },
    {
     "name": "stderr",
     "output_type": "stream",
     "text": [
      "\n",
      "\n",
      "==> WARNING: A newer version of conda exists. <==\n",
      "  current version: 23.9.0\n",
      "  latest version: 24.3.0\n",
      "\n",
      "Please update conda by running\n",
      "\n",
      "    $ conda update -n base -c defaults conda\n",
      "\n",
      "Or to minimize the number of packages updated during conda update use\n",
      "\n",
      "     conda install conda=24.3.0\n",
      "\n",
      "\n"
     ]
    }
   ],
   "source": [
    "# virtual machine\n",
    "!conda create -n newCondaEnvironment -c cctbx202208 python=3.7.9 -y\n"
   ]
  },
  {
   "cell_type": "code",
   "execution_count": 2,
   "metadata": {},
   "outputs": [],
   "source": [
    "!activate newCondaEnvironment"
   ]
  }
 ],
 "metadata": {
  "kernelspec": {
   "display_name": "ecse415",
   "language": "python",
   "name": "python3"
  },
  "language_info": {
   "codemirror_mode": {
    "name": "ipython",
    "version": 3
   },
   "file_extension": ".py",
   "mimetype": "text/x-python",
   "name": "python",
   "nbconvert_exporter": "python",
   "pygments_lexer": "ipython3",
   "version": "3.9.13"
  }
 },
 "nbformat": 4,
 "nbformat_minor": 2
}
